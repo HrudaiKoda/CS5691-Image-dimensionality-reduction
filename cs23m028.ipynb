{
  "nbformat": 4,
  "nbformat_minor": 0,
  "metadata": {
    "colab": {
      "provenance": []
    },
    "kernelspec": {
      "name": "python3",
      "display_name": "Python 3"
    },
    "language_info": {
      "name": "python"
    }
  },
  "cells": [
    {
      "cell_type": "markdown",
      "source": [
        "# General Instructions to students:\n",
        "\n",
        "1. There are 4 types of cells in this notebook. The cell type will be indicated within the cell.\n",
        "    1. Markdown cells with problem written in it. (DO NOT TOUCH THESE CELLS) (**Cell type: TextRead**)\n",
        "    2. Python cells with setup code for further evaluations. (DO NOT TOUCH THESE CELLS) (**Cell type: CodeRead**)\n",
        "    3. Python code cells with some template code or empty cell. (FILL CODE IN THESE CELLS BASED ON INSTRUCTIONS IN CURRENT AND PREVIOUS CELLS) (**Cell type: CodeWrite**)\n",
        "    4. Markdown cells where a written reasoning or conclusion is expected. (WRITE SENTENCES IN THESE CELLS) (**Cell type: TextWrite**)\n",
        "    \n",
        "2. You are not allowed to insert new cells in the submitted notebook.\n",
        "\n",
        "3. You are not allowed to import any extra packages, unless needed.\n",
        "\n",
        "4. The code is to be written in Python 3.x syntax. Latest versions of other packages maybe assumed.\n",
        "\n",
        "5. In CodeWrite Cells, the only outputs to be given are plots asked in the question. Nothing else to be output/printed.\n",
        "\n",
        "6. If TextWrite cells ask you to give accuracy/error/other numbers, you can print them on the code cells, but remove the print statements before submitting.\n",
        "\n",
        "7. Any runtime failures on the submitted notebook will get zero marks.\n",
        "\n",
        "8. All code must be written by you. Copying from other students/material on the web is strictly prohibited. Any violations will result in zero marks.\n",
        "\n",
        "10. All plots must be labelled properly, the labels/legends should be readable, all tables must have rows and columns named properly.\n",
        "\n",
        "11. Change the name of file with your roll no. For example cs15d203.ipynb (for notebook) and cs15d203.py (for plain python script)\n",
        "\n",
        "\n",
        "\n"
      ],
      "metadata": {
        "id": "342ziGnewCr7"
      }
    },
    {
      "cell_type": "code",
      "execution_count": null,
      "metadata": {
        "id": "We3kiiDJ8eV2"
      },
      "outputs": [],
      "source": [
        "# Cell type : CodeRead\n",
        "\n",
        "import numpy as np\n",
        "import matplotlib.pyplot as plt"
      ]
    },
    {
      "cell_type": "markdown",
      "source": [
        "\n",
        "**Cell type : TextRead**\n",
        "\n",
        "Problem 4: Life in Lower Dimensions\n",
        "\n",
        "You are provided with a [dataset](https://drive.google.com/file/d/1wOp8K9BS8Ncmjz7aP8RdqukqkGNSwK4i/view?usp=drive_link) of 1797 images - each image is 8x8 pixels and provided as a feature vector of length 64. You will try your hands at transforming this dataset to a lower-dimensional space using PCA clustering the images in this reduced space.\n",
        "\n",
        "Run the PCA algorithm on the given dataset. Plot the cumulative percentage variance explained by the principal components. Report the number of principal components that contribute to 90% of the variance in the dataset."
      ],
      "metadata": {
        "id": "g0s0y4Y8wbTC"
      }
    },
    {
      "cell_type": "code",
      "source": [
        "# Cell type : CodeWrite\n",
        "# write the function for PCA clustering here.\n",
        "\n",
        "import pandas as pd\n",
        "from numpy.linalg import eig\n",
        "\n",
        "def calcCovSame(array):\n",
        "  similarity = 0\n",
        "  length = len(array)\n",
        "  mean = array.sum()/length\n",
        "  for i in array:\n",
        "    similarity = similarity + pow(i[0] - mean,2)\n",
        "  similarity = similarity / (array.size)\n",
        "  return similarity\n",
        "\n",
        "\n",
        "def calcCovDiff(array1,array2):\n",
        "  similarity = 0\n",
        "  length = len(array1)\n",
        "  mean1 = array1.sum()/length\n",
        "  mean2 = array2.sum()/length\n",
        "  for i in range(0,array2.size):\n",
        "    similarity = similarity + (array1[i][0] - mean1)*(array2[i][0] - mean2)\n",
        "  similarity = similarity / (array1.size)\n",
        "  return similarity\n",
        "\n",
        "def PCA(Data):\n",
        "  dataset = pd.DataFrame(np.array(Data))\n",
        "  covar1 = np.zeros((64,64))\n",
        "  length = len(dataset)\n",
        "  for index in range(0,covar1.shape[0]):\n",
        "    for index1 in range(0,covar1.shape[0]):\n",
        "      covar1[index][index1] = calcCovDiff(dataset[[index]].to_numpy(),dataset[[index1]].to_numpy())\n",
        "\n",
        "  w,v=eig(covar1)\n",
        "  cumm_eigens = list()\n",
        "  curr = 0\n",
        "  sum = np.sum(w)\n",
        "  for i in w:\n",
        "    curr = curr + i\n",
        "  cumm_eigens.append(curr/sum)\n",
        "  total_egnvalues = np.sum(w)\n",
        "  var_exp = [(i/total_egnvalues) for i in sorted(w, reverse=True)]\n",
        "  cum_sum_exp = np.cumsum(var_exp)\n",
        "  plt.bar(range(0,len(var_exp)), var_exp, alpha=0.5, align='center', label='Individual variance by each PC')\n",
        "  plt.step(range(0,len(cum_sum_exp)), cum_sum_exp, where='mid',label='Cumulative variance')\n",
        "  plt.ylabel('variance ratio')\n",
        "  plt.xlabel('Principal component indicies')\n",
        "  plt.legend(loc='best')\n",
        "  plt.tight_layout()\n",
        "  plt.show()\n",
        "  numPCs = 0\n",
        "  for i in cum_sum_exp:\n",
        "    numPCs = numPCs + 1\n",
        "    if( i > 0.90):\n",
        "      break\n",
        "  return numPCs\n",
        "\n"
      ],
      "metadata": {
        "id": "9hTbuarfwjmz"
      },
      "execution_count": null,
      "outputs": []
    },
    {
      "cell_type": "markdown",
      "source": [
        "4b)  Perform reconstruction of data using the dimensionality-reduced data considering the number of dimensions [2,4,8,16]. Report the Mean Square Error (MSE) between the original data and reconstructed data, and interpret the optimal dimensions $\\hat{d}$ based on the MSE values."
      ],
      "metadata": {
        "id": "u_P8cXAFwsol"
      }
    },
    {
      "cell_type": "code",
      "source": [
        "PCA(Data)"
      ],
      "metadata": {
        "colab": {
          "base_uri": "https://localhost:8080/",
          "height": 504
        },
        "id": "E1ddm8rU_oR2",
        "outputId": "63998271-367c-42d5-f890-a6cddfbf2c85"
      },
      "execution_count": null,
      "outputs": [
        {
          "output_type": "display_data",
          "data": {
            "text/plain": [
              "<Figure size 640x480 with 1 Axes>"
            ],
            "image/png": "[encoded data removed]"
          },
          "metadata": {}
        },
        {
          "output_type": "execute_result",
          "data": {
            "text/plain": [
              "21"
            ]
          },
          "metadata": {},
          "execution_count": 21
        }
      ]
    },
    {
      "cell_type": "code",
      "source": [
        "# Cell type : CodeWrite\n",
        "# Write the code for data reconstruction, run the algorithm for dimensions.\n",
        "dataset = Data\n",
        "pcList = [2,4,8,16]\n",
        "Imagedata = pd.DataFrame(np.array(dataset))\n",
        "centeredData = Imagedata - Imagedata.mean()\n",
        "covar = np.zeros((64,64))\n",
        "length = len(centeredData)\n",
        "for index in range(0,covar.shape[0]):\n",
        "  for index1 in range(0,covar.shape[0]):\n",
        "    covar[index][index1] = calcCovDiff(centeredData[[index]].to_numpy(),centeredData[[index1]].to_numpy())\n",
        "vals, vecs = np.linalg.eig(covar)\n",
        "list1, list2 = zip(*sorted(zip(vals.tolist(), vecs.tolist())))\n",
        "errors = list()\n",
        "for components in pcList:\n",
        "  pc1 = np.array(vecs[:,0:components])\n",
        "  proj = np.dot(centeredData.to_numpy(), pc1)\n",
        "  newP = np.matmul(proj,pc1.transpose())\n",
        "  newP = newP+Imagedata.mean().to_numpy().reshape(1,64)\n",
        "  errors.append(pd.DataFrame((newP-np.array(dataset))**2).sum().sum()/len(dataset))\n",
        "print(errors)\n",
        "optimalPcIndex = errors.index(min(errors))\n",
        "print(pcList[optimalPcIndex])"
      ],
      "metadata": {
        "id": "v8QIbVLkw3Pz",
        "colab": {
          "base_uri": "https://localhost:8080/"
        },
        "outputId": "a0bdde3d-9067-4077-acdb-305384b4f523"
      },
      "execution_count": null,
      "outputs": [
        {
          "output_type": "stream",
          "name": "stdout",
          "text": [
            "[858.9447808487328, 616.1911300562695, 391.7947361149765, 180.9397032573787]\n",
            "16\n"
          ]
        }
      ]
    },
    {
      "cell_type": "code",
      "source": [],
      "metadata": {
        "id": "KVjKctZG_XnP"
      },
      "execution_count": null,
      "outputs": []
    }
  ]
}